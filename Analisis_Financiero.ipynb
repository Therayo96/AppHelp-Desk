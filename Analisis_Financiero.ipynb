{
  "nbformat": 4,
  "nbformat_minor": 0,
  "metadata": {
    "colab": {
      "provenance": [],
      "authorship_tag": "ABX9TyNB+9dBoN5/pa8XBu7aLb3S",
      "include_colab_link": true
    },
    "kernelspec": {
      "name": "python3",
      "display_name": "Python 3"
    },
    "language_info": {
      "name": "python"
    }
  },
  "cells": [
    {
      "cell_type": "markdown",
      "metadata": {
        "id": "view-in-github",
        "colab_type": "text"
      },
      "source": [
        "<a href=\"https://colab.research.google.com/github/Therayo96/AppHelp-Desk/blob/master/Analisis_Financiero.ipynb\" target=\"_parent\"><img src=\"https://colab.research.google.com/assets/colab-badge.svg\" alt=\"Open In Colab\"/></a>"
      ]
    },
    {
      "cell_type": "code",
      "execution_count": null,
      "metadata": {
        "colab": {
          "base_uri": "https://localhost:8080/",
          "height": 308
        },
        "id": "YBRWQmw2hcVx",
        "outputId": "465927b4-322e-494f-9316-42f720ac1a72"
      },
      "outputs": [
        {
          "output_type": "execute_result",
          "data": {
            "text/plain": [
              "   ID  LIMIT_BAL  SEX  EDUCATION  MARRIAGE  AGE  PAY_0  PAY_2  PAY_3  PAY_4  \\\n",
              "0   1      20000    2          2         1   24      2      2     -1     -1   \n",
              "1   2     120000    2          2         2   26     -1      2      0      0   \n",
              "2   3      90000    2          2         2   34      0      0      0      0   \n",
              "3   4      50000    2          2         1   37      0      0      0      0   \n",
              "4   5      50000    1          2         1   57     -1      0     -1      0   \n",
              "\n",
              "   ...  BILL_AMT4  BILL_AMT5  BILL_AMT6  PAY_AMT1  PAY_AMT2  PAY_AMT3  \\\n",
              "0  ...          0          0          0         0       689         0   \n",
              "1  ...       3272       3455       3261         0      1000      1000   \n",
              "2  ...      14331      14948      15549      1518      1500      1000   \n",
              "3  ...      28314      28959      29547      2000      2019      1200   \n",
              "4  ...      20940      19146      19131      2000     36681     10000   \n",
              "\n",
              "   PAY_AMT4  PAY_AMT5  PAY_AMT6  default payment next month  \n",
              "0         0         0         0                           1  \n",
              "1      1000         0      2000                           1  \n",
              "2      1000      1000      5000                           0  \n",
              "3      1100      1069      1000                           0  \n",
              "4      9000       689       679                           0  \n",
              "\n",
              "[5 rows x 25 columns]"
            ],
            "text/html": [
              "\n",
              "  <div id=\"df-07d9d9b4-3456-4cc8-a943-931b8ac9b6be\" class=\"colab-df-container\">\n",
              "    <div>\n",
              "<style scoped>\n",
              "    .dataframe tbody tr th:only-of-type {\n",
              "        vertical-align: middle;\n",
              "    }\n",
              "\n",
              "    .dataframe tbody tr th {\n",
              "        vertical-align: top;\n",
              "    }\n",
              "\n",
              "    .dataframe thead th {\n",
              "        text-align: right;\n",
              "    }\n",
              "</style>\n",
              "<table border=\"1\" class=\"dataframe\">\n",
              "  <thead>\n",
              "    <tr style=\"text-align: right;\">\n",
              "      <th></th>\n",
              "      <th>ID</th>\n",
              "      <th>LIMIT_BAL</th>\n",
              "      <th>SEX</th>\n",
              "      <th>EDUCATION</th>\n",
              "      <th>MARRIAGE</th>\n",
              "      <th>AGE</th>\n",
              "      <th>PAY_0</th>\n",
              "      <th>PAY_2</th>\n",
              "      <th>PAY_3</th>\n",
              "      <th>PAY_4</th>\n",
              "      <th>...</th>\n",
              "      <th>BILL_AMT4</th>\n",
              "      <th>BILL_AMT5</th>\n",
              "      <th>BILL_AMT6</th>\n",
              "      <th>PAY_AMT1</th>\n",
              "      <th>PAY_AMT2</th>\n",
              "      <th>PAY_AMT3</th>\n",
              "      <th>PAY_AMT4</th>\n",
              "      <th>PAY_AMT5</th>\n",
              "      <th>PAY_AMT6</th>\n",
              "      <th>default payment next month</th>\n",
              "    </tr>\n",
              "  </thead>\n",
              "  <tbody>\n",
              "    <tr>\n",
              "      <th>0</th>\n",
              "      <td>1</td>\n",
              "      <td>20000</td>\n",
              "      <td>2</td>\n",
              "      <td>2</td>\n",
              "      <td>1</td>\n",
              "      <td>24</td>\n",
              "      <td>2</td>\n",
              "      <td>2</td>\n",
              "      <td>-1</td>\n",
              "      <td>-1</td>\n",
              "      <td>...</td>\n",
              "      <td>0</td>\n",
              "      <td>0</td>\n",
              "      <td>0</td>\n",
              "      <td>0</td>\n",
              "      <td>689</td>\n",
              "      <td>0</td>\n",
              "      <td>0</td>\n",
              "      <td>0</td>\n",
              "      <td>0</td>\n",
              "      <td>1</td>\n",
              "    </tr>\n",
              "    <tr>\n",
              "      <th>1</th>\n",
              "      <td>2</td>\n",
              "      <td>120000</td>\n",
              "      <td>2</td>\n",
              "      <td>2</td>\n",
              "      <td>2</td>\n",
              "      <td>26</td>\n",
              "      <td>-1</td>\n",
              "      <td>2</td>\n",
              "      <td>0</td>\n",
              "      <td>0</td>\n",
              "      <td>...</td>\n",
              "      <td>3272</td>\n",
              "      <td>3455</td>\n",
              "      <td>3261</td>\n",
              "      <td>0</td>\n",
              "      <td>1000</td>\n",
              "      <td>1000</td>\n",
              "      <td>1000</td>\n",
              "      <td>0</td>\n",
              "      <td>2000</td>\n",
              "      <td>1</td>\n",
              "    </tr>\n",
              "    <tr>\n",
              "      <th>2</th>\n",
              "      <td>3</td>\n",
              "      <td>90000</td>\n",
              "      <td>2</td>\n",
              "      <td>2</td>\n",
              "      <td>2</td>\n",
              "      <td>34</td>\n",
              "      <td>0</td>\n",
              "      <td>0</td>\n",
              "      <td>0</td>\n",
              "      <td>0</td>\n",
              "      <td>...</td>\n",
              "      <td>14331</td>\n",
              "      <td>14948</td>\n",
              "      <td>15549</td>\n",
              "      <td>1518</td>\n",
              "      <td>1500</td>\n",
              "      <td>1000</td>\n",
              "      <td>1000</td>\n",
              "      <td>1000</td>\n",
              "      <td>5000</td>\n",
              "      <td>0</td>\n",
              "    </tr>\n",
              "    <tr>\n",
              "      <th>3</th>\n",
              "      <td>4</td>\n",
              "      <td>50000</td>\n",
              "      <td>2</td>\n",
              "      <td>2</td>\n",
              "      <td>1</td>\n",
              "      <td>37</td>\n",
              "      <td>0</td>\n",
              "      <td>0</td>\n",
              "      <td>0</td>\n",
              "      <td>0</td>\n",
              "      <td>...</td>\n",
              "      <td>28314</td>\n",
              "      <td>28959</td>\n",
              "      <td>29547</td>\n",
              "      <td>2000</td>\n",
              "      <td>2019</td>\n",
              "      <td>1200</td>\n",
              "      <td>1100</td>\n",
              "      <td>1069</td>\n",
              "      <td>1000</td>\n",
              "      <td>0</td>\n",
              "    </tr>\n",
              "    <tr>\n",
              "      <th>4</th>\n",
              "      <td>5</td>\n",
              "      <td>50000</td>\n",
              "      <td>1</td>\n",
              "      <td>2</td>\n",
              "      <td>1</td>\n",
              "      <td>57</td>\n",
              "      <td>-1</td>\n",
              "      <td>0</td>\n",
              "      <td>-1</td>\n",
              "      <td>0</td>\n",
              "      <td>...</td>\n",
              "      <td>20940</td>\n",
              "      <td>19146</td>\n",
              "      <td>19131</td>\n",
              "      <td>2000</td>\n",
              "      <td>36681</td>\n",
              "      <td>10000</td>\n",
              "      <td>9000</td>\n",
              "      <td>689</td>\n",
              "      <td>679</td>\n",
              "      <td>0</td>\n",
              "    </tr>\n",
              "  </tbody>\n",
              "</table>\n",
              "<p>5 rows × 25 columns</p>\n",
              "</div>\n",
              "    <div class=\"colab-df-buttons\">\n",
              "\n",
              "  <div class=\"colab-df-container\">\n",
              "    <button class=\"colab-df-convert\" onclick=\"convertToInteractive('df-07d9d9b4-3456-4cc8-a943-931b8ac9b6be')\"\n",
              "            title=\"Convert this dataframe to an interactive table.\"\n",
              "            style=\"display:none;\">\n",
              "\n",
              "  <svg xmlns=\"http://www.w3.org/2000/svg\" height=\"24px\" viewBox=\"0 -960 960 960\">\n",
              "    <path d=\"M120-120v-720h720v720H120Zm60-500h600v-160H180v160Zm220 220h160v-160H400v160Zm0 220h160v-160H400v160ZM180-400h160v-160H180v160Zm440 0h160v-160H620v160ZM180-180h160v-160H180v160Zm440 0h160v-160H620v160Z\"/>\n",
              "  </svg>\n",
              "    </button>\n",
              "\n",
              "  <style>\n",
              "    .colab-df-container {\n",
              "      display:flex;\n",
              "      gap: 12px;\n",
              "    }\n",
              "\n",
              "    .colab-df-convert {\n",
              "      background-color: #E8F0FE;\n",
              "      border: none;\n",
              "      border-radius: 50%;\n",
              "      cursor: pointer;\n",
              "      display: none;\n",
              "      fill: #1967D2;\n",
              "      height: 32px;\n",
              "      padding: 0 0 0 0;\n",
              "      width: 32px;\n",
              "    }\n",
              "\n",
              "    .colab-df-convert:hover {\n",
              "      background-color: #E2EBFA;\n",
              "      box-shadow: 0px 1px 2px rgba(60, 64, 67, 0.3), 0px 1px 3px 1px rgba(60, 64, 67, 0.15);\n",
              "      fill: #174EA6;\n",
              "    }\n",
              "\n",
              "    .colab-df-buttons div {\n",
              "      margin-bottom: 4px;\n",
              "    }\n",
              "\n",
              "    [theme=dark] .colab-df-convert {\n",
              "      background-color: #3B4455;\n",
              "      fill: #D2E3FC;\n",
              "    }\n",
              "\n",
              "    [theme=dark] .colab-df-convert:hover {\n",
              "      background-color: #434B5C;\n",
              "      box-shadow: 0px 1px 3px 1px rgba(0, 0, 0, 0.15);\n",
              "      filter: drop-shadow(0px 1px 2px rgba(0, 0, 0, 0.3));\n",
              "      fill: #FFFFFF;\n",
              "    }\n",
              "  </style>\n",
              "\n",
              "    <script>\n",
              "      const buttonEl =\n",
              "        document.querySelector('#df-07d9d9b4-3456-4cc8-a943-931b8ac9b6be button.colab-df-convert');\n",
              "      buttonEl.style.display =\n",
              "        google.colab.kernel.accessAllowed ? 'block' : 'none';\n",
              "\n",
              "      async function convertToInteractive(key) {\n",
              "        const element = document.querySelector('#df-07d9d9b4-3456-4cc8-a943-931b8ac9b6be');\n",
              "        const dataTable =\n",
              "          await google.colab.kernel.invokeFunction('convertToInteractive',\n",
              "                                                    [key], {});\n",
              "        if (!dataTable) return;\n",
              "\n",
              "        const docLinkHtml = 'Like what you see? Visit the ' +\n",
              "          '<a target=\"_blank\" href=https://colab.research.google.com/notebooks/data_table.ipynb>data table notebook</a>'\n",
              "          + ' to learn more about interactive tables.';\n",
              "        element.innerHTML = '';\n",
              "        dataTable['output_type'] = 'display_data';\n",
              "        await google.colab.output.renderOutput(dataTable, element);\n",
              "        const docLink = document.createElement('div');\n",
              "        docLink.innerHTML = docLinkHtml;\n",
              "        element.appendChild(docLink);\n",
              "      }\n",
              "    </script>\n",
              "  </div>\n",
              "\n",
              "\n",
              "<div id=\"df-63da59ed-2e03-409b-be2b-9cfdd846c5dd\">\n",
              "  <button class=\"colab-df-quickchart\" onclick=\"quickchart('df-63da59ed-2e03-409b-be2b-9cfdd846c5dd')\"\n",
              "            title=\"Suggest charts\"\n",
              "            style=\"display:none;\">\n",
              "\n",
              "<svg xmlns=\"http://www.w3.org/2000/svg\" height=\"24px\"viewBox=\"0 0 24 24\"\n",
              "     width=\"24px\">\n",
              "    <g>\n",
              "        <path d=\"M19 3H5c-1.1 0-2 .9-2 2v14c0 1.1.9 2 2 2h14c1.1 0 2-.9 2-2V5c0-1.1-.9-2-2-2zM9 17H7v-7h2v7zm4 0h-2V7h2v10zm4 0h-2v-4h2v4z\"/>\n",
              "    </g>\n",
              "</svg>\n",
              "  </button>\n",
              "\n",
              "<style>\n",
              "  .colab-df-quickchart {\n",
              "      --bg-color: #E8F0FE;\n",
              "      --fill-color: #1967D2;\n",
              "      --hover-bg-color: #E2EBFA;\n",
              "      --hover-fill-color: #174EA6;\n",
              "      --disabled-fill-color: #AAA;\n",
              "      --disabled-bg-color: #DDD;\n",
              "  }\n",
              "\n",
              "  [theme=dark] .colab-df-quickchart {\n",
              "      --bg-color: #3B4455;\n",
              "      --fill-color: #D2E3FC;\n",
              "      --hover-bg-color: #434B5C;\n",
              "      --hover-fill-color: #FFFFFF;\n",
              "      --disabled-bg-color: #3B4455;\n",
              "      --disabled-fill-color: #666;\n",
              "  }\n",
              "\n",
              "  .colab-df-quickchart {\n",
              "    background-color: var(--bg-color);\n",
              "    border: none;\n",
              "    border-radius: 50%;\n",
              "    cursor: pointer;\n",
              "    display: none;\n",
              "    fill: var(--fill-color);\n",
              "    height: 32px;\n",
              "    padding: 0;\n",
              "    width: 32px;\n",
              "  }\n",
              "\n",
              "  .colab-df-quickchart:hover {\n",
              "    background-color: var(--hover-bg-color);\n",
              "    box-shadow: 0 1px 2px rgba(60, 64, 67, 0.3), 0 1px 3px 1px rgba(60, 64, 67, 0.15);\n",
              "    fill: var(--button-hover-fill-color);\n",
              "  }\n",
              "\n",
              "  .colab-df-quickchart-complete:disabled,\n",
              "  .colab-df-quickchart-complete:disabled:hover {\n",
              "    background-color: var(--disabled-bg-color);\n",
              "    fill: var(--disabled-fill-color);\n",
              "    box-shadow: none;\n",
              "  }\n",
              "\n",
              "  .colab-df-spinner {\n",
              "    border: 2px solid var(--fill-color);\n",
              "    border-color: transparent;\n",
              "    border-bottom-color: var(--fill-color);\n",
              "    animation:\n",
              "      spin 1s steps(1) infinite;\n",
              "  }\n",
              "\n",
              "  @keyframes spin {\n",
              "    0% {\n",
              "      border-color: transparent;\n",
              "      border-bottom-color: var(--fill-color);\n",
              "      border-left-color: var(--fill-color);\n",
              "    }\n",
              "    20% {\n",
              "      border-color: transparent;\n",
              "      border-left-color: var(--fill-color);\n",
              "      border-top-color: var(--fill-color);\n",
              "    }\n",
              "    30% {\n",
              "      border-color: transparent;\n",
              "      border-left-color: var(--fill-color);\n",
              "      border-top-color: var(--fill-color);\n",
              "      border-right-color: var(--fill-color);\n",
              "    }\n",
              "    40% {\n",
              "      border-color: transparent;\n",
              "      border-right-color: var(--fill-color);\n",
              "      border-top-color: var(--fill-color);\n",
              "    }\n",
              "    60% {\n",
              "      border-color: transparent;\n",
              "      border-right-color: var(--fill-color);\n",
              "    }\n",
              "    80% {\n",
              "      border-color: transparent;\n",
              "      border-right-color: var(--fill-color);\n",
              "      border-bottom-color: var(--fill-color);\n",
              "    }\n",
              "    90% {\n",
              "      border-color: transparent;\n",
              "      border-bottom-color: var(--fill-color);\n",
              "    }\n",
              "  }\n",
              "</style>\n",
              "\n",
              "  <script>\n",
              "    async function quickchart(key) {\n",
              "      const quickchartButtonEl =\n",
              "        document.querySelector('#' + key + ' button');\n",
              "      quickchartButtonEl.disabled = true;  // To prevent multiple clicks.\n",
              "      quickchartButtonEl.classList.add('colab-df-spinner');\n",
              "      try {\n",
              "        const charts = await google.colab.kernel.invokeFunction(\n",
              "            'suggestCharts', [key], {});\n",
              "      } catch (error) {\n",
              "        console.error('Error during call to suggestCharts:', error);\n",
              "      }\n",
              "      quickchartButtonEl.classList.remove('colab-df-spinner');\n",
              "      quickchartButtonEl.classList.add('colab-df-quickchart-complete');\n",
              "    }\n",
              "    (() => {\n",
              "      let quickchartButtonEl =\n",
              "        document.querySelector('#df-63da59ed-2e03-409b-be2b-9cfdd846c5dd button');\n",
              "      quickchartButtonEl.style.display =\n",
              "        google.colab.kernel.accessAllowed ? 'block' : 'none';\n",
              "    })();\n",
              "  </script>\n",
              "</div>\n",
              "\n",
              "    </div>\n",
              "  </div>\n"
            ]
          },
          "metadata": {},
          "execution_count": 7
        }
      ],
      "source": [
        "import pandas as pd\n",
        "import numpy as np\n",
        "import matplotlib.pyplot as plt\n",
        "\n",
        "data = pd.read_excel('/content/data_credit_finance/default_credit_card_clients.xls',header=1)\n",
        "data.head()"
      ]
    },
    {
      "cell_type": "markdown",
      "source": [
        "![image.png](data:image/png;base64,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)\n"
      ],
      "metadata": {
        "id": "w0DjpBL6mFCe"
      }
    },
    {
      "cell_type": "code",
      "source": [
        "data.shape"
      ],
      "metadata": {
        "colab": {
          "base_uri": "https://localhost:8080/"
        },
        "id": "P8gFuXLynE9o",
        "outputId": "16a6ff40-a702-4a36-beb7-d69d5c1eb398"
      },
      "execution_count": null,
      "outputs": [
        {
          "output_type": "execute_result",
          "data": {
            "text/plain": [
              "(30000, 25)"
            ]
          },
          "metadata": {},
          "execution_count": 9
        }
      ]
    },
    {
      "cell_type": "code",
      "source": [
        "data.info()"
      ],
      "metadata": {
        "colab": {
          "base_uri": "https://localhost:8080/"
        },
        "id": "82BythHPnnaK",
        "outputId": "932fa7a4-d174-470d-874e-1b7950b49129"
      },
      "execution_count": null,
      "outputs": [
        {
          "output_type": "stream",
          "name": "stdout",
          "text": [
            "<class 'pandas.core.frame.DataFrame'>\n",
            "RangeIndex: 30000 entries, 0 to 29999\n",
            "Data columns (total 25 columns):\n",
            " #   Column                      Non-Null Count  Dtype\n",
            "---  ------                      --------------  -----\n",
            " 0   ID                          30000 non-null  int64\n",
            " 1   LIMIT_BAL                   30000 non-null  int64\n",
            " 2   SEX                         30000 non-null  int64\n",
            " 3   EDUCATION                   30000 non-null  int64\n",
            " 4   MARRIAGE                    30000 non-null  int64\n",
            " 5   AGE                         30000 non-null  int64\n",
            " 6   PAY_0                       30000 non-null  int64\n",
            " 7   PAY_2                       30000 non-null  int64\n",
            " 8   PAY_3                       30000 non-null  int64\n",
            " 9   PAY_4                       30000 non-null  int64\n",
            " 10  PAY_5                       30000 non-null  int64\n",
            " 11  PAY_6                       30000 non-null  int64\n",
            " 12  BILL_AMT1                   30000 non-null  int64\n",
            " 13  BILL_AMT2                   30000 non-null  int64\n",
            " 14  BILL_AMT3                   30000 non-null  int64\n",
            " 15  BILL_AMT4                   30000 non-null  int64\n",
            " 16  BILL_AMT5                   30000 non-null  int64\n",
            " 17  BILL_AMT6                   30000 non-null  int64\n",
            " 18  PAY_AMT1                    30000 non-null  int64\n",
            " 19  PAY_AMT2                    30000 non-null  int64\n",
            " 20  PAY_AMT3                    30000 non-null  int64\n",
            " 21  PAY_AMT4                    30000 non-null  int64\n",
            " 22  PAY_AMT5                    30000 non-null  int64\n",
            " 23  PAY_AMT6                    30000 non-null  int64\n",
            " 24  default payment next month  30000 non-null  int64\n",
            "dtypes: int64(25)\n",
            "memory usage: 5.7 MB\n"
          ]
        }
      ]
    },
    {
      "cell_type": "code",
      "source": [
        "data['ID'].nunique()"
      ],
      "metadata": {
        "colab": {
          "base_uri": "https://localhost:8080/"
        },
        "id": "hwLsabPAoUBv",
        "outputId": "ade7ea4f-0343-4d13-b364-091bd6585c40"
      },
      "execution_count": null,
      "outputs": [
        {
          "output_type": "execute_result",
          "data": {
            "text/plain": [
              "30000"
            ]
          },
          "metadata": {},
          "execution_count": 12
        }
      ]
    },
    {
      "cell_type": "code",
      "source": [
        "id_counts = data['ID'].value_counts()\n",
        "id_counts[:3]"
      ],
      "metadata": {
        "colab": {
          "base_uri": "https://localhost:8080/"
        },
        "id": "aVL9m0_Lovwg",
        "outputId": "229acab7-5c7a-419b-b1d3-f0c0a227dcd5"
      },
      "execution_count": null,
      "outputs": [
        {
          "output_type": "execute_result",
          "data": {
            "text/plain": [
              "1        1\n",
              "19997    1\n",
              "20009    1\n",
              "Name: ID, dtype: int64"
            ]
          },
          "metadata": {},
          "execution_count": 14
        }
      ]
    },
    {
      "cell_type": "code",
      "source": [
        "id_counts.value_counts()"
      ],
      "metadata": {
        "colab": {
          "base_uri": "https://localhost:8080/"
        },
        "id": "SwMcA22VpKbs",
        "outputId": "c12d8eb6-3ae9-490a-cfab-97a1e980d918"
      },
      "execution_count": null,
      "outputs": [
        {
          "output_type": "execute_result",
          "data": {
            "text/plain": [
              "1    30000\n",
              "Name: ID, dtype: int64"
            ]
          },
          "metadata": {},
          "execution_count": 15
        }
      ]
    },
    {
      "cell_type": "code",
      "source": [
        "#Mascara Booleana\n",
        "bool_mask = id_counts == 2\n",
        "bool_mask[:5]\n"
      ],
      "metadata": {
        "colab": {
          "base_uri": "https://localhost:8080/"
        },
        "id": "A7czZVs0piUm",
        "outputId": "33472284-63c6-4b9e-a318-7ea4b3f3bf75"
      },
      "execution_count": null,
      "outputs": [
        {
          "output_type": "execute_result",
          "data": {
            "text/plain": [
              "1        False\n",
              "19997    False\n",
              "20009    False\n",
              "20008    False\n",
              "20007    False\n",
              "Name: ID, dtype: bool"
            ]
          },
          "metadata": {},
          "execution_count": 16
        }
      ]
    },
    {
      "cell_type": "code",
      "source": [
        "dups_ids = id_counts.index[bool_mask]\n",
        "dups_ids[:5]"
      ],
      "metadata": {
        "colab": {
          "base_uri": "https://localhost:8080/"
        },
        "id": "P0pyNMg7p9GQ",
        "outputId": "25bf6256-9912-4f33-cbcd-9ddff9b3bb3d"
      },
      "execution_count": null,
      "outputs": [
        {
          "output_type": "execute_result",
          "data": {
            "text/plain": [
              "Int64Index([], dtype='int64')"
            ]
          },
          "metadata": {},
          "execution_count": 17
        }
      ]
    },
    {
      "cell_type": "code",
      "source": [
        "data.loc[data['ID'].isin(dups_ids[:3]),:].head(6)"
      ],
      "metadata": {
        "colab": {
          "base_uri": "https://localhost:8080/",
          "height": 151
        },
        "id": "9lsL87y5qlPS",
        "outputId": "c7381fb2-cc0e-426c-abf2-8d96725aded0"
      },
      "execution_count": null,
      "outputs": [
        {
          "output_type": "execute_result",
          "data": {
            "text/plain": [
              "Empty DataFrame\n",
              "Columns: [ID, LIMIT_BAL, SEX, EDUCATION, MARRIAGE, AGE, PAY_0, PAY_2, PAY_3, PAY_4, PAY_5, PAY_6, BILL_AMT1, BILL_AMT2, BILL_AMT3, BILL_AMT4, BILL_AMT5, BILL_AMT6, PAY_AMT1, PAY_AMT2, PAY_AMT3, PAY_AMT4, PAY_AMT5, PAY_AMT6, default payment next month]\n",
              "Index: []\n",
              "\n",
              "[0 rows x 25 columns]"
            ],
            "text/html": [
              "\n",
              "  <div id=\"df-284c63c4-23c6-49e8-a131-26b1f0b6f574\" class=\"colab-df-container\">\n",
              "    <div>\n",
              "<style scoped>\n",
              "    .dataframe tbody tr th:only-of-type {\n",
              "        vertical-align: middle;\n",
              "    }\n",
              "\n",
              "    .dataframe tbody tr th {\n",
              "        vertical-align: top;\n",
              "    }\n",
              "\n",
              "    .dataframe thead th {\n",
              "        text-align: right;\n",
              "    }\n",
              "</style>\n",
              "<table border=\"1\" class=\"dataframe\">\n",
              "  <thead>\n",
              "    <tr style=\"text-align: right;\">\n",
              "      <th></th>\n",
              "      <th>ID</th>\n",
              "      <th>LIMIT_BAL</th>\n",
              "      <th>SEX</th>\n",
              "      <th>EDUCATION</th>\n",
              "      <th>MARRIAGE</th>\n",
              "      <th>AGE</th>\n",
              "      <th>PAY_0</th>\n",
              "      <th>PAY_2</th>\n",
              "      <th>PAY_3</th>\n",
              "      <th>PAY_4</th>\n",
              "      <th>...</th>\n",
              "      <th>BILL_AMT4</th>\n",
              "      <th>BILL_AMT5</th>\n",
              "      <th>BILL_AMT6</th>\n",
              "      <th>PAY_AMT1</th>\n",
              "      <th>PAY_AMT2</th>\n",
              "      <th>PAY_AMT3</th>\n",
              "      <th>PAY_AMT4</th>\n",
              "      <th>PAY_AMT5</th>\n",
              "      <th>PAY_AMT6</th>\n",
              "      <th>default payment next month</th>\n",
              "    </tr>\n",
              "  </thead>\n",
              "  <tbody>\n",
              "  </tbody>\n",
              "</table>\n",
              "<p>0 rows × 25 columns</p>\n",
              "</div>\n",
              "    <div class=\"colab-df-buttons\">\n",
              "\n",
              "  <div class=\"colab-df-container\">\n",
              "    <button class=\"colab-df-convert\" onclick=\"convertToInteractive('df-284c63c4-23c6-49e8-a131-26b1f0b6f574')\"\n",
              "            title=\"Convert this dataframe to an interactive table.\"\n",
              "            style=\"display:none;\">\n",
              "\n",
              "  <svg xmlns=\"http://www.w3.org/2000/svg\" height=\"24px\" viewBox=\"0 -960 960 960\">\n",
              "    <path d=\"M120-120v-720h720v720H120Zm60-500h600v-160H180v160Zm220 220h160v-160H400v160Zm0 220h160v-160H400v160ZM180-400h160v-160H180v160Zm440 0h160v-160H620v160ZM180-180h160v-160H180v160Zm440 0h160v-160H620v160Z\"/>\n",
              "  </svg>\n",
              "    </button>\n",
              "\n",
              "  <style>\n",
              "    .colab-df-container {\n",
              "      display:flex;\n",
              "      gap: 12px;\n",
              "    }\n",
              "\n",
              "    .colab-df-convert {\n",
              "      background-color: #E8F0FE;\n",
              "      border: none;\n",
              "      border-radius: 50%;\n",
              "      cursor: pointer;\n",
              "      display: none;\n",
              "      fill: #1967D2;\n",
              "      height: 32px;\n",
              "      padding: 0 0 0 0;\n",
              "      width: 32px;\n",
              "    }\n",
              "\n",
              "    .colab-df-convert:hover {\n",
              "      background-color: #E2EBFA;\n",
              "      box-shadow: 0px 1px 2px rgba(60, 64, 67, 0.3), 0px 1px 3px 1px rgba(60, 64, 67, 0.15);\n",
              "      fill: #174EA6;\n",
              "    }\n",
              "\n",
              "    .colab-df-buttons div {\n",
              "      margin-bottom: 4px;\n",
              "    }\n",
              "\n",
              "    [theme=dark] .colab-df-convert {\n",
              "      background-color: #3B4455;\n",
              "      fill: #D2E3FC;\n",
              "    }\n",
              "\n",
              "    [theme=dark] .colab-df-convert:hover {\n",
              "      background-color: #434B5C;\n",
              "      box-shadow: 0px 1px 3px 1px rgba(0, 0, 0, 0.15);\n",
              "      filter: drop-shadow(0px 1px 2px rgba(0, 0, 0, 0.3));\n",
              "      fill: #FFFFFF;\n",
              "    }\n",
              "  </style>\n",
              "\n",
              "    <script>\n",
              "      const buttonEl =\n",
              "        document.querySelector('#df-284c63c4-23c6-49e8-a131-26b1f0b6f574 button.colab-df-convert');\n",
              "      buttonEl.style.display =\n",
              "        google.colab.kernel.accessAllowed ? 'block' : 'none';\n",
              "\n",
              "      async function convertToInteractive(key) {\n",
              "        const element = document.querySelector('#df-284c63c4-23c6-49e8-a131-26b1f0b6f574');\n",
              "        const dataTable =\n",
              "          await google.colab.kernel.invokeFunction('convertToInteractive',\n",
              "                                                    [key], {});\n",
              "        if (!dataTable) return;\n",
              "\n",
              "        const docLinkHtml = 'Like what you see? Visit the ' +\n",
              "          '<a target=\"_blank\" href=https://colab.research.google.com/notebooks/data_table.ipynb>data table notebook</a>'\n",
              "          + ' to learn more about interactive tables.';\n",
              "        element.innerHTML = '';\n",
              "        dataTable['output_type'] = 'display_data';\n",
              "        await google.colab.output.renderOutput(dataTable, element);\n",
              "        const docLink = document.createElement('div');\n",
              "        docLink.innerHTML = docLinkHtml;\n",
              "        element.appendChild(docLink);\n",
              "      }\n",
              "    </script>\n",
              "  </div>\n",
              "\n",
              "\n",
              "    </div>\n",
              "  </div>\n"
            ]
          },
          "metadata": {},
          "execution_count": 18
        }
      ]
    }
  ]
}